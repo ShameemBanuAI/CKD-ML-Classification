{
 "cells": [
  {
   "cell_type": "code",
   "execution_count": 1,
   "id": "82b42ebf",
   "metadata": {},
   "outputs": [
    {
     "name": "stdout",
     "output_type": "stream",
     "text": [
      "Age : 15\n",
      "BP : 4.32\n",
      "AL : 2.67\n",
      "su : 1.67\n",
      "bgr : 2.89\n",
      "bu : 4.1233\n",
      "sc : 8.767\n",
      "sod : 6.345\n",
      "pot : 3.768\n",
      "hrmo : 1.567\n",
      "pcv : 2\n",
      "wc : 3\n",
      "rc : 1\n",
      "sg_b : 0\n",
      "sg_c : 1\n",
      "sg_d : 0\n",
      "sg_e : 0\n",
      "rbc_normal : 1\n",
      "pc_normal : 0\n",
      "pcc_present : 1\n",
      "ba_present : 0\n",
      "htn_yes : 1\n",
      "dm_yes : 0\n",
      "cad_yes : 1\n",
      "appet_yes : 1\n",
      "pe_yes : 1\n",
      "Ane_yes : 0\n"
     ]
    }
   ],
   "source": [
    "age=int(input(\"Age : \"))\n",
    "bp=float(input(\"BP : \"))\n",
    "al=float(input(\"AL : \"))\n",
    "su=float(input(\"su : \"))\n",
    "bgr=float(input(\"bgr : \"))\n",
    "bu=float(input(\"bu : \"))\n",
    "sc=float(input(\"sc : \"))\n",
    "sod=float(input(\"sod : \"))\n",
    "pot=float(input(\"pot : \"))\n",
    "hrmo=float(input(\"hrmo : \"))\n",
    "pcv=int(input(\"pcv : \"))\n",
    "wc=int(input(\"wc : \"))\n",
    "rc=int(input(\"rc : \"))\n",
    "sg_b=int(input(\"sg_b : \"))\n",
    "sg_c=int(input(\"sg_c : \"))\n",
    "sg_d=int(input(\"sg_d : \"))\n",
    "sg_e=int(input(\"sg_e : \"))\n",
    "rbc_normal=int(input(\"rbc_normal : \"))\n",
    "pc_normal=int(input(\"pc_normal : \"))\n",
    "pcc_present=int(input(\"pcc_present : \"))\n",
    "ba_present=int(input(\"ba_present : \"))\n",
    "htn_yes=int(input(\"htn_yes : \"))\n",
    "dm_yes=int(input(\"dm_yes : \"))\n",
    "cad_yes=int(input(\"cad_yes : \"))\n",
    "appet_yes=int(input(\"appet_yes : \"))\n",
    "pe_yes=int(input(\"pe_yes : \"))\n",
    "ane_yes=int(input(\"Ane_yes : \"))\n"
   ]
  },
  {
   "cell_type": "code",
   "execution_count": 2,
   "id": "38977370",
   "metadata": {},
   "outputs": [
    {
     "name": "stdout",
     "output_type": "stream",
     "text": [
      "Future Predictions : [1] \n"
     ]
    }
   ],
   "source": [
    "import pickle\n",
    "loadedModel=pickle.load(open(\"FinalModel_LogisticRegression.sav\",'rb'))\n",
    "result=loadedModel.predict([[age,bp,al,su, bgr, bu, sc, sod, pot, hrmo, pcv,\n",
    "       wc, rc, sg_b, sg_c, sg_d, sg_e, rbc_normal, pc_normal,\n",
    "       pcc_present, ba_present, htn_yes, dm_yes, cad_yes,\n",
    "       appet_yes, pe_yes, ane_yes]])\n",
    "print(\"Future Predictions : {} \".format(result))"
   ]
  },
  {
   "cell_type": "code",
   "execution_count": null,
   "id": "2b3409d0",
   "metadata": {},
   "outputs": [],
   "source": []
  }
 ],
 "metadata": {
  "kernelspec": {
   "display_name": "Python 3 (ipykernel)",
   "language": "python",
   "name": "python3"
  },
  "language_info": {
   "codemirror_mode": {
    "name": "ipython",
    "version": 3
   },
   "file_extension": ".py",
   "mimetype": "text/x-python",
   "name": "python",
   "nbconvert_exporter": "python",
   "pygments_lexer": "ipython3",
   "version": "3.10.9"
  }
 },
 "nbformat": 4,
 "nbformat_minor": 5
}
